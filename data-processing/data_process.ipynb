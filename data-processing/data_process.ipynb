{
 "cells": [
  {
   "cell_type": "code",
   "execution_count": 1,
   "metadata": {},
   "outputs": [],
   "source": [
    "import pandas as pd\n",
    "import numpy as np\n",
    "from IPython.display import display, HTML"
   ]
  },
  {
   "cell_type": "code",
   "execution_count": 2,
   "metadata": {},
   "outputs": [
    {
     "name": "stdout",
     "output_type": "stream",
     "text": [
      "0.2\n"
     ]
    }
   ],
   "source": [
    "path = '/Users/songqinyue/Hack4Her/'\n",
    "df = pd.read_csv(f'{path}data_csv_format/labeled_vacancies_final.csv')\n",
    "print(df['women_proportion'][14])"
   ]
  },
  {
   "cell_type": "code",
   "execution_count": 3,
   "metadata": {},
   "outputs": [],
   "source": [
    "df_first_405 = df.head(405)\n",
    "df_first_405.to_csv(f'{path}data_csv_format/new.csv')\n",
    "\n",
    "df_other = pd.read_csv(f'{path}result/result.csv', index_col=0)\n",
    "\n",
    "merged_df = pd.concat([df_first_405, df_other], axis=1)\n",
    "merged_df.to_csv(f'{path}data_csv_format/merged_file.csv')"
   ]
  }
 ],
 "metadata": {
  "kernelspec": {
   "display_name": "Python [conda env:base] *",
   "language": "python",
   "name": "conda-base-py"
  },
  "language_info": {
   "codemirror_mode": {
    "name": "ipython",
    "version": 3
   },
   "file_extension": ".py",
   "mimetype": "text/x-python",
   "name": "python",
   "nbconvert_exporter": "python",
   "pygments_lexer": "ipython3",
   "version": "3.12.7"
  }
 },
 "nbformat": 4,
 "nbformat_minor": 4
}
