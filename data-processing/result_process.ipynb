{
 "cells": [
  {
   "cell_type": "code",
   "execution_count": 1,
   "metadata": {},
   "outputs": [],
   "source": [
    "import pandas as pd\n",
    "import json\n",
    "\n",
    "path = '/Users/songqinyue/Hack4Her/'\n",
    "jsonl_file = f'{path}result/result.jsonl'\n",
    "data = [json.loads(line) for line in open(jsonl_file, 'r')]\n",
    "\n",
    "df = pd.DataFrame(data)\n",
    "\n",
    "df.to_csv(f'{path}result/result.csv', index=True)"
   ]
  }
 ],
 "metadata": {
  "kernelspec": {
   "display_name": "Python [conda env:base] *",
   "language": "python",
   "name": "conda-base-py"
  },
  "language_info": {
   "codemirror_mode": {
    "name": "ipython",
    "version": 3
   },
   "file_extension": ".py",
   "mimetype": "text/x-python",
   "name": "python",
   "nbconvert_exporter": "python",
   "pygments_lexer": "ipython3",
   "version": "3.12.7"
  }
 },
 "nbformat": 4,
 "nbformat_minor": 4
}
