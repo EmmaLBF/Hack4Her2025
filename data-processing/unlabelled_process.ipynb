{
 "cells": [
  {
   "cell_type": "code",
   "execution_count": 9,
   "metadata": {},
   "outputs": [],
   "source": [
    "import pandas as pd\n",
    "import numpy as np\n",
    "from IPython.display import display, HTML\n",
    "\n",
    "path = '/Users/songqinyue/Hack4Her/'\n",
    "df = pd.read_csv(f'{path}data_csv_format/unlabeled_vacancies_final.csv')\n",
    "\n",
    "df_first_31 = df.head(31)\n",
    "df_first_31.to_csv(f'{path}data_csv_format/new_unlabelled.csv')\n",
    "\n",
    "df_other = pd.read_csv(f'{path}result/unlabelled_result.csv', index_col=0)\n",
    "\n",
    "merged_df = pd.concat([df_first_31, df_other], axis=1)\n",
    "merged_df = merged_df.drop('positiontitle', axis=1)\n",
    "merged_df.rename(columns={'job_description': 'description'}, inplace=True)\n",
    "\n",
    "index = merged_df.columns.get_loc('description') + 1\n",
    "merged_df.insert(index, 'women_proportion', -1)\n",
    "merged_df.to_csv(f'{path}data_csv_format/merged_file_unlabelled.csv')"
   ]
  },
  {
   "cell_type": "code",
   "execution_count": null,
   "metadata": {},
   "outputs": [],
   "source": []
  }
 ],
 "metadata": {
  "kernelspec": {
   "display_name": "Python [conda env:base] *",
   "language": "python",
   "name": "conda-base-py"
  },
  "language_info": {
   "codemirror_mode": {
    "name": "ipython",
    "version": 3
   },
   "file_extension": ".py",
   "mimetype": "text/x-python",
   "name": "python",
   "nbconvert_exporter": "python",
   "pygments_lexer": "ipython3",
   "version": "3.12.7"
  }
 },
 "nbformat": 4,
 "nbformat_minor": 4
}
