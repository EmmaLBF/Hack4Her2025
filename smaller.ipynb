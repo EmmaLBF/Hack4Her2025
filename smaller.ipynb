{
 "cells": [
  {
   "cell_type": "code",
   "execution_count": 1,
   "id": "8029150d",
   "metadata": {},
   "outputs": [],
   "source": [
    "import pickle\n",
    "import pandas as pd\n",
    "import re\n",
    "\n",
    "\n",
    "with open('data_pickle_format/synethetictotrain.pickle', 'rb') as f:\n",
    "    synethetic = pickle.load(f)\n",
    "with open('data_pickle_format/labeledtotrain.pickle', 'rb') as f:\n",
    "    labeled = pickle.load(f)\n",
    "with open('data_pickle_format/unlabeled_vacancies_final.pickle', 'rb') as f:\n",
    "    unlabeled = pickle.load(f)"
   ]
  },
  {
   "cell_type": "code",
   "execution_count": 2,
   "id": "54ddd439",
   "metadata": {},
   "outputs": [],
   "source": [
    "from string import punctuation\n",
    "import html\n",
    "import re\n",
    "\n",
    "def preprocess_text(text):\n",
    "    text = text.lower()\n",
    "    text = html.unescape(text)\n",
    "    text = re.sub(r\"https?://\\S+\", \"\", text) # remove http links\n",
    "    text = re.sub(r\"<.*?>\", \" \", text) # remove html tags\n",
    "    text = re.sub(f\"[{re.escape(punctuation)}]\", \"\", text)  # Remove punctuation\n",
    "    text = \" \".join(text.split())  # Remove extra spaces, tabs, and new lines\n",
    "    return text\n",
    "\n",
    "unlabeled[\"job_description\"] = unlabeled[\"job_description\"].map(preprocess_text)\n",
    "\n",
    "pd.set_option('display.max_colwidth', None)"
   ]
  },
  {
   "cell_type": "code",
   "execution_count": 3,
   "id": "e0d29f27",
   "metadata": {},
   "outputs": [],
   "source": [
    "training = pd.concat([synethetic, labeled], axis=0)"
   ]
  },
  {
   "cell_type": "code",
   "execution_count": 4,
   "id": "d0027f21",
   "metadata": {},
   "outputs": [
    {
     "name": "stderr",
     "output_type": "stream",
     "text": [
      "/home/jkoz/.local/lib/python3.10/site-packages/tqdm/auto.py:21: TqdmWarning: IProgress not found. Please update jupyter and ipywidgets. See https://ipywidgets.readthedocs.io/en/stable/user_install.html\n",
      "  from .autonotebook import tqdm as notebook_tqdm\n"
     ]
    }
   ],
   "source": [
    "from transformers import BertTokenizer\n",
    "from sklearn.model_selection import train_test_split\n",
    "import torch\n",
    "from torch.utils.data import Dataset, DataLoader\n",
    "from transformers import AutoTokenizer\n",
    "\n",
    "train_df = training[[\"job_description\", \"women_proportion\"]].dropna()\n",
    "train_df.columns = [\"text\", \"labels\"]\n",
    "\n",
    "from sklearn.model_selection import train_test_split\n",
    "train_df, dev_df = train_test_split(train_df, test_size=0.1, random_state=42)\n"
   ]
  },
  {
   "cell_type": "code",
   "execution_count": null,
   "id": "23aa60dc",
   "metadata": {},
   "outputs": [
    {
     "name": "stderr",
     "output_type": "stream",
     "text": [
      "Some weights of DistilBertForSequenceClassification were not initialized from the model checkpoint at distilbert-base-multilingual-cased and are newly initialized: ['classifier.bias', 'classifier.weight', 'pre_classifier.bias', 'pre_classifier.weight']\n",
      "You should probably TRAIN this model on a down-stream task to be able to use it for predictions and inference.\n",
      "1it [00:00,  4.39it/s]\n",
      "Epochs 1/2. Running Loss:    0.1975: 100%|██████████| 13/13 [00:28<00:00,  2.16s/it]\n",
      "1it [00:00,  4.81it/s]\n"
     ]
    }
   ],
   "source": [
    "from simpletransformers.classification import ClassificationModel, ClassificationArgs\n",
    "\n",
    "model_args = ClassificationArgs()\n",
    "model_args.num_train_epochs = 2\n",
    "model_args.evaluate_during_training = True\n",
    "model_args.regression = True   \n",
    "model_args.train_batch_size = 8 \n",
    "model_args.eval_batch_size = 8\n",
    "model_args.max_seq_length = 128 \n",
    "\n",
    "model = ClassificationModel(\n",
    "    \"distilbert\",\n",
    "    \"distilbert-base-multilingual-cased\",\n",
    "    num_labels=1,\n",
    "    args=model_args,\n",
    "    use_cuda=torch.cuda.is_available()\n",
    ")\n",
    "\n",
    "model.train_model(train_df[['text', 'labels']].sample(100), eval_df=dev_df[['text', 'labels']].sample(20))\n"
   ]
  },
  {
   "cell_type": "code",
   "execution_count": null,
   "id": "f714672e",
   "metadata": {},
   "outputs": [],
   "source": [
    "\n",
    "# preds, raw_outputs = model.predict(unlabeled['job_description'].tolist())"
   ]
  }
 ],
 "metadata": {
  "kernelspec": {
   "display_name": "Python 3",
   "language": "python",
   "name": "python3"
  },
  "language_info": {
   "codemirror_mode": {
    "name": "ipython",
    "version": 3
   },
   "file_extension": ".py",
   "mimetype": "text/x-python",
   "name": "python",
   "nbconvert_exporter": "python",
   "pygments_lexer": "ipython3",
   "version": "3.10.12"
  }
 },
 "nbformat": 4,
 "nbformat_minor": 5
}
