{
 "cells": [
  {
   "cell_type": "code",
   "execution_count": 3,
   "id": "5ccc0a62-1f93-4b86-84f1-84b71262b193",
   "metadata": {},
   "outputs": [
    {
     "name": "stdout",
     "output_type": "stream",
     "text": [
      "<class 'pandas.core.frame.DataFrame'>\n"
     ]
    }
   ],
   "source": [
    "import pickle\n",
    "\n",
    "with open('labeled_vacancies_final.pickle', 'rb') as file:\n",
    "    data = pickle.load(file)\n",
    "\n",
    "print(type(data))"
   ]
  },
  {
   "cell_type": "code",
   "execution_count": 4,
   "id": "fee06188-75a3-4456-aa9d-af5834442f5c",
   "metadata": {},
   "outputs": [],
   "source": [
    "import requests\n",
    "from langdetect import detect, DetectorFactory\n",
    "\n",
    "DetectorFactory.seed = 0\n",
    "\n",
    "def detect_language(text):\n",
    "    try:\n",
    "        lang = detect(text)\n",
    "        return lang\n",
    "    except:\n",
    "        return \"unknown\"\n",
    "\n",
    "languages = []\n",
    "for desc in data['description']:\n",
    "    lang = detect_language(desc)\n",
    "    languages.append(lang)\n",
    "\n",
    "data['language'] = languages\n"
   ]
  },
  {
   "cell_type": "code",
   "execution_count": 6,
   "id": "d5c6d98b-456a-4974-97ab-70e8e7ff36d6",
   "metadata": {
    "scrolled": true
   },
   "outputs": [
    {
     "name": "stdout",
     "output_type": "stream",
     "text": [
      "                                            description  women_proportion  \\\n",
      "0     Company name: Ministerie van Financi n: Belast...          0.400000   \n",
      "1     Company name: Belastingdienst\\n Job requiremen...          0.750000   \n",
      "2     Company name: DUO\\n Job requirements: 3 jaar e...          0.500000   \n",
      "3     Company name: Dienst Uitvoering Onderwijs (DUO...          0.500000   \n",
      "4     Company name: ASML Netherlands B.V.\\n Job requ...          0.000000   \n",
      "...                                                 ...               ...   \n",
      "2370  Company name: Specialist in parkeeroplossingen...          0.100000   \n",
      "2371  Company name: DUO\\n Job requirements: Werkerva...          1.000000   \n",
      "2372  Company name: IT Security organisatie\\n Job re...          0.052632   \n",
      "2373  Company name: DUO\\n Job requirements: minimaal...          0.000000   \n",
      "2374  Company name: Randstad Global IT Solutions B.V...          0.000000   \n",
      "\n",
      "     language  \n",
      "0          nl  \n",
      "1          nl  \n",
      "2          nl  \n",
      "3          nl  \n",
      "4          en  \n",
      "...       ...  \n",
      "2370       nl  \n",
      "2371       nl  \n",
      "2372       nl  \n",
      "2373       nl  \n",
      "2374       en  \n",
      "\n",
      "[2375 rows x 3 columns]\n"
     ]
    }
   ],
   "source": [
    "print(data)"
   ]
  },
  {
   "cell_type": "code",
   "execution_count": 7,
   "id": "87bae878-4dc3-4c6d-8120-75ffa8fdf79d",
   "metadata": {},
   "outputs": [
    {
     "name": "stdout",
     "output_type": "stream",
     "text": [
      "language\n",
      "nl    1954\n",
      "en     421\n",
      "Name: count, dtype: int64\n"
     ]
    }
   ],
   "source": [
    "counts = data['language'].value_counts()\n",
    "\n",
    "print(counts)\n"
   ]
  },
  {
   "cell_type": "code",
   "execution_count": 8,
   "id": "3f6d56bf-94bb-4184-986d-e15f9eb05957",
   "metadata": {},
   "outputs": [
    {
     "ename": "NameError",
     "evalue": "name 'df' is not defined",
     "output_type": "error",
     "traceback": [
      "\u001b[31m---------------------------------------------------------------------------\u001b[39m",
      "\u001b[31mNameError\u001b[39m                                 Traceback (most recent call last)",
      "\u001b[36mCell\u001b[39m\u001b[36m \u001b[39m\u001b[32mIn[8]\u001b[39m\u001b[32m, line 1\u001b[39m\n\u001b[32m----> \u001b[39m\u001b[32m1\u001b[39m df_nl = df[df[\u001b[33m'\u001b[39m\u001b[33mlanguage\u001b[39m\u001b[33m'\u001b[39m] == \u001b[33m'\u001b[39m\u001b[33mnl\u001b[39m\u001b[33m'\u001b[39m]\n",
      "\u001b[31mNameError\u001b[39m: name 'df' is not defined"
     ]
    }
   ],
   "source": [
    "df_nl = df[df['language'] == 'nl']"
   ]
  },
  {
   "cell_type": "code",
   "execution_count": 9,
   "id": "8a583485-cc5f-4efe-a394-dc803ee50c45",
   "metadata": {},
   "outputs": [],
   "source": [
    "data_nl = data[data['language'] == 'nl']"
   ]
  },
  {
   "cell_type": "code",
   "execution_count": 10,
   "id": "684b6cf0-3d9f-4d88-b4bd-879dc2eb56b5",
   "metadata": {},
   "outputs": [],
   "source": [
    "data_en = data[data['language'] == 'en']"
   ]
  },
  {
   "cell_type": "code",
   "execution_count": null,
   "id": "2079e9b9-8cbb-4c4d-ae82-4740d125b036",
   "metadata": {},
   "outputs": [],
   "source": []
  }
 ],
 "metadata": {
  "kernelspec": {
   "display_name": "Python 3 (ipykernel)",
   "language": "python",
   "name": "python3"
  },
  "language_info": {
   "codemirror_mode": {
    "name": "ipython",
    "version": 3
   },
   "file_extension": ".py",
   "mimetype": "text/x-python",
   "name": "python",
   "nbconvert_exporter": "python",
   "pygments_lexer": "ipython3",
   "version": "3.13.2"
  }
 },
 "nbformat": 4,
 "nbformat_minor": 5
}
